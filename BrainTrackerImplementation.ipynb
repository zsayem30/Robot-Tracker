{
 "cells": [
  {
   "cell_type": "code",
   "execution_count": 2,
   "metadata": {
    "collapsed": true
   },
   "outputs": [],
   "source": [
    "#For tracking single object\n",
    "import cv2\n",
    "import numpy as np\n",
    "\n",
    "TrDict = {'csrt': cv2.TrackerCSRT_create,\n",
    "          'kcf': cv2.TrackerKCF_create,\n",
    "          'boosting': cv2.TrackerBoosting_create,\n",
    "          'mil': cv2.TrackerMIL_create,\n",
    "          'tld': cv2.TrackerTLD_create,\n",
    "          'medianflow': cv2.Tracker,\n",
    "          'mosse': cv2.TrackerMOSSE_create} #different types of trackers, will be used to compare performances for tracking\n",
    "\n",
    "tracker = TrDict['csrt']() #decide which tracker to use\n",
    "v = cv2.VideoCapture(r'C:\\Users\\sayem\\Downloads\\Clip2.mp4') #find video to capture\n",
    "ret, frame = v.read() #reads very first frame\n",
    "cv2.imshow('Frame', frame) #show the fir                             st frame\n",
    "bb = cv2.selectROI('Frame', frame) #draw bounding box on the object of interest\n",
    "tracker.init(frame,bb)\n",
    "#Note: This might throw the error: \"AttributeError: module 'cv2.cv2' has no attribute 'tracker_name'\". You can overcome this by \"pip install opencv-contrib-python\" on your command prompt and restarting kernel if using jupyter hub like i am\n",
    "while True: #   Keep reading frames\n",
    "    ret,frame = v.read() #read every frame in video\n",
    "    if not ret:\n",
    "        break #this is when the stream ends :(\n",
    "    (success, box) = tracker.update(frame)\n",
    "    if success:\n",
    "        (x,y,w,h) = [int(a) for a in box] #returns the top corner of the tracking box along with the width and height of the box\n",
    "        (cx, cy) = x+w/2, y+h/2\n",
    "        cv2.rectangle(frame,(x,y),(x+w,y+h),(255,0,0),2) #x,y is coordinates of the bottom left corner of the box while the other point is the top left corner of the box\n",
    "    cv2.imshow('Frame', frame)\n",
    "    key = cv2.waitKey(5) & 0xFF\n",
    "    if key == ord('q'):\n",
    "        break\n",
    "v.release()\n",
    "cv2.destroyAllWindows()\n"
   ]
  },
  {
   "cell_type": "code",
   "execution_count": 1,
   "outputs": [],
   "source": [
    "#For tracking multiple objects\n",
    "import cv2\n",
    "TrDict = {'csrt': cv2.TrackerCSRT_create,\n",
    "          'kcf': cv2.TrackerKCF_create,\n",
    "          'boosting': cv2.TrackerBoosting_create,\n",
    "          'mil': cv2.TrackerMIL_create,\n",
    "          'tld': cv2.TrackerTLD_create,\n",
    "          'medianflow': cv2.Tracker,\n",
    "          'mosse': cv2.TrackerMOSSE_create} #different types of trackers, will be used to compare performances for tracking\n",
    "\n",
    "trackers = cv2.MultiTracker_create() #decide which tracker to\n",
    "v = cv2.VideoCapture(r'C:\\Users\\sayem\\Downloads\\Clip2.mp4') #find video to capture\n",
    "#getting the frame rate of a video(later will be used to find the velocity of the robots)\n",
    "fps = v.get(cv2.CAP_PROP_FPS)\n",
    "time_elapsed = 1/fps\n",
    "ret, frame = v.read()\n",
    "k = 2\n",
    "for i in range(k):\n",
    "    cv2.imshow('Frame', frame)\n",
    "    bbi = cv2.selectROI('Frame', frame)\n",
    "    tracker_i = TrDict['csrt']()\n",
    "    trackers.add(tracker_i, frame, bbi)\n",
    "(success, boxes) = trackers.update(frame)\n",
    "while True: #   Keep reading frames\n",
    "    prev_boxes = boxes\n",
    "    ret,frame = v.read() #read every frame in video\n",
    "    if not ret:\n",
    "        break #this is when the stream ends :(\n",
    "    (success, boxes) = trackers.update(frame)\n",
    "    for index, box in enumerate(boxes):\n",
    "        (x,y,w,h) = [int(a) for a in box] #returns the bottom corner of the tracking box along with the width and height of the box\n",
    "        (cx, cy) = int(x+w/2), int(y+h/2)\n",
    "        (vx,vy) = (x+w/2 - (prev_boxes[index,0]+prev_boxes[index,2]/2))/time_elapsed, (y+h/2 - (prev_boxes[index,1]+prev_boxes[index,3]/2))/time_elapsed\n",
    "        cv2.rectangle(frame,(x,y),(x+w,y+h),(255,0,0),2) #x,y is coordinates of the bottom left corner of the box while the other point is the top left corner of the box\n",
    "        cv2.circle(frame,(cx,cy), 3, (0, 255, 0), -1)\n",
    "        loc = cx,cy\n",
    "        cv2.putText(frame, str(loc), (x,y),cv2.FONT_HERSHEY_SIMPLEX, 1, (255,255,255), 2)\n",
    "    cv2.imshow('Frame', frame)\n",
    "    key = cv2.waitKey(5) & 0xFF\n",
    "    if key == ord('q'):\n",
    "        break\n",
    "v.release()\n",
    "cv2.destroyAllWindows()"
   ],
   "metadata": {
    "collapsed": false,
    "pycharm": {
     "name": "#%%\n"
    }
   }
  }
 ],
 "metadata": {
  "kernelspec": {
   "display_name": "Python 3",
   "language": "python",
   "name": "python3"
  },
  "language_info": {
   "codemirror_mode": {
    "name": "ipython",
    "version": 2
   },
   "file_extension": ".py",
   "mimetype": "text/x-python",
   "name": "python",
   "nbconvert_exporter": "python",
   "pygments_lexer": "ipython2",
   "version": "2.7.6"
  }
 },
 "nbformat": 4,
 "nbformat_minor": 0
}